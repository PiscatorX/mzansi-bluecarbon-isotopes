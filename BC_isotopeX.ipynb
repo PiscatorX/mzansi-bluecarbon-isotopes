{
 "cells": [
  {
   "cell_type": "code",
   "execution_count": 28,
   "id": "c61d18ec-0e43-45d9-b1dc-67287ae336a4",
   "metadata": {
    "tags": []
   },
   "outputs": [],
   "source": [
    "library(MixSIAR)\n",
    "library(dplyr)"
   ]
  },
  {
   "cell_type": "code",
   "execution_count": 29,
   "id": "375f7f8a-1de4-4ab6-9b1e-4b83132e2378",
   "metadata": {},
   "outputs": [
    {
     "ename": "ERROR",
     "evalue": "Error in setwd(\"isotope data\"): cannot change working directory\n",
     "output_type": "error",
     "traceback": [
      "Error in setwd(\"isotope data\"): cannot change working directory\nTraceback:\n",
      "1. setwd(\"isotope data\")"
     ]
    }
   ],
   "source": [
    "setwd(\"isotope data\")"
   ]
  },
  {
   "cell_type": "code",
   "execution_count": 31,
   "id": "da55a751-c202-4ab8-9cd8-9429b083899b",
   "metadata": {},
   "outputs": [],
   "source": [
    "mix_filename <- \"Berg_MixSiar_sink_F.csv\""
   ]
  },
  {
   "cell_type": "code",
   "execution_count": 32,
   "id": "53ee6c4e-35d1-4353-bd07-015bca967ae7",
   "metadata": {},
   "outputs": [
    {
     "data": {
      "text/html": [
       "<table class=\"dataframe\">\n",
       "<caption>A data.frame: 5 × 2</caption>\n",
       "<thead>\n",
       "\t<tr><th scope=col>d13C</th><th scope=col>Region</th></tr>\n",
       "\t<tr><th scope=col>&lt;dbl&gt;</th><th scope=col>&lt;int&gt;</th></tr>\n",
       "</thead>\n",
       "<tbody>\n",
       "\t<tr><td>-15.787</td><td>1</td></tr>\n",
       "\t<tr><td>-13.304</td><td>2</td></tr>\n",
       "\t<tr><td>-25.568</td><td>1</td></tr>\n",
       "\t<tr><td>-26.303</td><td>2</td></tr>\n",
       "\t<tr><td>-25.109</td><td>2</td></tr>\n",
       "</tbody>\n",
       "</table>\n"
      ],
      "text/latex": [
       "A data.frame: 5 × 2\n",
       "\\begin{tabular}{ll}\n",
       " d13C & Region\\\\\n",
       " <dbl> & <int>\\\\\n",
       "\\hline\n",
       "\t -15.787 & 1\\\\\n",
       "\t -13.304 & 2\\\\\n",
       "\t -25.568 & 1\\\\\n",
       "\t -26.303 & 2\\\\\n",
       "\t -25.109 & 2\\\\\n",
       "\\end{tabular}\n"
      ],
      "text/markdown": [
       "\n",
       "A data.frame: 5 × 2\n",
       "\n",
       "| d13C &lt;dbl&gt; | Region &lt;int&gt; |\n",
       "|---|---|\n",
       "| -15.787 | 1 |\n",
       "| -13.304 | 2 |\n",
       "| -25.568 | 1 |\n",
       "| -26.303 | 2 |\n",
       "| -25.109 | 2 |\n",
       "\n"
      ],
      "text/plain": [
       "  d13C    Region\n",
       "1 -15.787 1     \n",
       "2 -13.304 2     \n",
       "3 -25.568 1     \n",
       "4 -26.303 2     \n",
       "5 -25.109 2     "
      ]
     },
     "metadata": {},
     "output_type": "display_data"
    }
   ],
   "source": [
    "read.csv(mix_filename) %>% sample_n(5)"
   ]
  },
  {
   "cell_type": "code",
   "execution_count": 33,
   "id": "f7d879a2-e667-4f4d-86c3-51b7346fa038",
   "metadata": {},
   "outputs": [],
   "source": [
    "mix <- load_mix_data(filename=mix.filename, \n",
    "                     iso_names=c(\"d13C\"), \n",
    "                     factors=c(\"Region\"), \n",
    "                     fac_random=c(FALSE), \n",
    "                     fac_nested=c(FALSE), \n",
    "                     cont_effects=NULL)"
   ]
  },
  {
   "cell_type": "code",
   "execution_count": 34,
   "id": "8ae0529d-ac9d-441e-a38d-deadca59a719",
   "metadata": {},
   "outputs": [],
   "source": [
    "source.filename <- \"Berg_MixSiar_Source_F.csv\""
   ]
  },
  {
   "cell_type": "code",
   "execution_count": 35,
   "id": "22af80d0-2684-4926-a2cc-0c7183288e2f",
   "metadata": {},
   "outputs": [
    {
     "data": {
      "text/html": [
       "<table class=\"dataframe\">\n",
       "<caption>A data.frame: 4 × 5</caption>\n",
       "<thead>\n",
       "\t<tr><th scope=col>Source</th><th scope=col>Region</th><th scope=col>Meand13C</th><th scope=col>SDd13C</th><th scope=col>n</th></tr>\n",
       "\t<tr><th scope=col>&lt;chr&gt;</th><th scope=col>&lt;int&gt;</th><th scope=col>&lt;dbl&gt;</th><th scope=col>&lt;dbl&gt;</th><th scope=col>&lt;int&gt;</th></tr>\n",
       "</thead>\n",
       "<tbody>\n",
       "\t<tr><td>Seagrass  </td><td>1</td><td>-16.37090</td><td>0.8575269</td><td>10</td></tr>\n",
       "\t<tr><td>Seagrass  </td><td>2</td><td>-13.35052</td><td>0.9059884</td><td>10</td></tr>\n",
       "\t<tr><td>Salt marsh</td><td>1</td><td>-28.00227</td><td>0.9115539</td><td>10</td></tr>\n",
       "\t<tr><td>Salt marsh</td><td>2</td><td>-27.79769</td><td>0.5607433</td><td>10</td></tr>\n",
       "</tbody>\n",
       "</table>\n"
      ],
      "text/latex": [
       "A data.frame: 4 × 5\n",
       "\\begin{tabular}{lllll}\n",
       " Source & Region & Meand13C & SDd13C & n\\\\\n",
       " <chr> & <int> & <dbl> & <dbl> & <int>\\\\\n",
       "\\hline\n",
       "\t Seagrass   & 1 & -16.37090 & 0.8575269 & 10\\\\\n",
       "\t Seagrass   & 2 & -13.35052 & 0.9059884 & 10\\\\\n",
       "\t Salt marsh & 1 & -28.00227 & 0.9115539 & 10\\\\\n",
       "\t Salt marsh & 2 & -27.79769 & 0.5607433 & 10\\\\\n",
       "\\end{tabular}\n"
      ],
      "text/markdown": [
       "\n",
       "A data.frame: 4 × 5\n",
       "\n",
       "| Source &lt;chr&gt; | Region &lt;int&gt; | Meand13C &lt;dbl&gt; | SDd13C &lt;dbl&gt; | n &lt;int&gt; |\n",
       "|---|---|---|---|---|\n",
       "| Seagrass   | 1 | -16.37090 | 0.8575269 | 10 |\n",
       "| Seagrass   | 2 | -13.35052 | 0.9059884 | 10 |\n",
       "| Salt marsh | 1 | -28.00227 | 0.9115539 | 10 |\n",
       "| Salt marsh | 2 | -27.79769 | 0.5607433 | 10 |\n",
       "\n"
      ],
      "text/plain": [
       "  Source     Region Meand13C  SDd13C    n \n",
       "1 Seagrass   1      -16.37090 0.8575269 10\n",
       "2 Seagrass   2      -13.35052 0.9059884 10\n",
       "3 Salt marsh 1      -28.00227 0.9115539 10\n",
       "4 Salt marsh 2      -27.79769 0.5607433 10"
      ]
     },
     "metadata": {},
     "output_type": "display_data"
    }
   ],
   "source": [
    "read.csv(source.filename) "
   ]
  },
  {
   "cell_type": "code",
   "execution_count": 36,
   "id": "d8eeb829-386e-44b3-a87e-19bdc9d59987",
   "metadata": {},
   "outputs": [],
   "source": [
    "source <- load_source_data(filename=source.filename,\n",
    "                           source_factors=\"Region\", \n",
    "                           conc_dep=FALSE, \n",
    "                           data_type=\"means\", \n",
    "                           mix)"
   ]
  },
  {
   "cell_type": "code",
   "execution_count": 37,
   "id": "cdd73105-c9c6-4fd2-9803-c52c151d86dc",
   "metadata": {},
   "outputs": [],
   "source": [
    "model_filename <- \"MixSIAR_model.txt\"   # Name of the JAGS model file\n",
    "resid_err <- TRUE\n",
    "process_err <- TRUE\n",
    "write_JAGS_model(model_filename, resid_err, process_err, mix, source)"
   ]
  },
  {
   "cell_type": "code",
   "execution_count": 38,
   "id": "45d9a985-075b-445b-8b58-9e5fed35e41f",
   "metadata": {},
   "outputs": [],
   "source": [
    "output_options <- list(summary_save = TRUE,\n",
    "                       summary_name = \"summary_statistics\",\n",
    "                       sup_post = FALSE,\n",
    "                       plot_post_save_pdf = TRUE,\n",
    "                       plot_post_name = \"posterior_density\",\n",
    "                       sup_pairs = FALSE,\n",
    "                       plot_pairs_save_pdf = TRUE,\n",
    "                       plot_pairs_name = \"pairs_plot\",\n",
    "                       sup_xy = TRUE,\n",
    "                       plot_xy_save_pdf = FALSE,\n",
    "                       plot_xy_name = \"xy_plot\",\n",
    "                       gelman = TRUE,\n",
    "                       heidel = FALSE,\n",
    "                       geweke = TRUE,\n",
    "                       diag_save = TRUE,\n",
    "                       diag_name = \"diagnostics\",\n",
    "                       indiv_effect = FALSE,\n",
    "                       plot_post_save_png = FALSE,\n",
    "                       plot_pairs_save_png = FALSE,\n",
    "                       plot_xy_save_png = FALSE,\n",
    "                       diag_save_ggmcmc = FALSE)"
   ]
  },
  {
   "cell_type": "code",
   "execution_count": 40,
   "id": "d05f4e68-f4a2-42b5-8af3-a6fa5693b397",
   "metadata": {},
   "outputs": [
    {
     "ename": "ERROR",
     "evalue": "Error in run_model(run = \"normal\", mix, source, discr, model_filename): object 'discr' not found\n",
     "output_type": "error",
     "traceback": [
      "Error in run_model(run = \"normal\", mix, source, discr, model_filename): object 'discr' not found\nTraceback:\n",
      "1. run_model(run = \"normal\", mix, source, discr, model_filename)"
     ]
    }
   ],
   "source": [
    "jags <- run_model(run=\"normal\", mix, source, discr, model_filename)"
   ]
  },
  {
   "cell_type": "code",
   "execution_count": 41,
   "id": "b036ce30-f663-462b-b0dc-9ec0ff5c3745",
   "metadata": {},
   "outputs": [
    {
     "ename": "ERROR",
     "evalue": "Error in output_JAGS(jags, mix, source, output_options): object 'jags' not found\n",
     "output_type": "error",
     "traceback": [
      "Error in output_JAGS(jags, mix, source, output_options): object 'jags' not found\nTraceback:\n",
      "1. output_JAGS(jags, mix, source, output_options)"
     ]
    }
   ],
   "source": [
    "output_JAGS(jags, mix, source, output_options)"
   ]
  },
  {
   "cell_type": "code",
   "execution_count": 43,
   "id": "9f593bc3-70ae-427d-89f5-46d038ad7f53",
   "metadata": {},
   "outputs": [
    {
     "data": {
      "text/html": [
       "<table class=\"dataframe\">\n",
       "<caption>A data.frame: 3 × 5</caption>\n",
       "<thead>\n",
       "\t<tr><th scope=col>X</th><th scope=col>Meand13C</th><th scope=col>SDd13C</th><th scope=col>Meand15N</th><th scope=col>SDd15N</th></tr>\n",
       "\t<tr><th scope=col>&lt;chr&gt;</th><th scope=col>&lt;dbl&gt;</th><th scope=col>&lt;int&gt;</th><th scope=col>&lt;dbl&gt;</th><th scope=col>&lt;int&gt;</th></tr>\n",
       "</thead>\n",
       "<tbody>\n",
       "\t<tr><td>Deer          </td><td>2.1</td><td>0</td><td>2.6</td><td>0</td></tr>\n",
       "\t<tr><td>Salmon        </td><td>2.1</td><td>0</td><td>2.6</td><td>0</td></tr>\n",
       "\t<tr><td>Marine Mammals</td><td>2.1</td><td>0</td><td>2.6</td><td>0</td></tr>\n",
       "</tbody>\n",
       "</table>\n"
      ],
      "text/latex": [
       "A data.frame: 3 × 5\n",
       "\\begin{tabular}{lllll}\n",
       " X & Meand13C & SDd13C & Meand15N & SDd15N\\\\\n",
       " <chr> & <dbl> & <int> & <dbl> & <int>\\\\\n",
       "\\hline\n",
       "\t Deer           & 2.1 & 0 & 2.6 & 0\\\\\n",
       "\t Salmon         & 2.1 & 0 & 2.6 & 0\\\\\n",
       "\t Marine Mammals & 2.1 & 0 & 2.6 & 0\\\\\n",
       "\\end{tabular}\n"
      ],
      "text/markdown": [
       "\n",
       "A data.frame: 3 × 5\n",
       "\n",
       "| X &lt;chr&gt; | Meand13C &lt;dbl&gt; | SDd13C &lt;int&gt; | Meand15N &lt;dbl&gt; | SDd15N &lt;int&gt; |\n",
       "|---|---|---|---|---|\n",
       "| Deer           | 2.1 | 0 | 2.6 | 0 |\n",
       "| Salmon         | 2.1 | 0 | 2.6 | 0 |\n",
       "| Marine Mammals | 2.1 | 0 | 2.6 | 0 |\n",
       "\n"
      ],
      "text/plain": [
       "  X              Meand13C SDd13C Meand15N SDd15N\n",
       "1 Deer           2.1      0      2.6      0     \n",
       "2 Salmon         2.1      0      2.6      0     \n",
       "3 Marine Mammals 2.1      0      2.6      0     "
      ]
     },
     "metadata": {},
     "output_type": "display_data"
    }
   ],
   "source": [
    "discr.filename <- system.file(\"extdata\", \"wolves_discrimination.csv\", package = \"MixSIAR\")\n",
    "read.csv(discr.filename)"
   ]
  },
  {
   "cell_type": "code",
   "execution_count": null,
   "id": "9fbe2f5a-7c79-403c-bd29-e99a53472524",
   "metadata": {},
   "outputs": [],
   "source": []
  }
 ],
 "metadata": {
  "kernelspec": {
   "display_name": "R",
   "language": "R",
   "name": "ir"
  },
  "language_info": {
   "codemirror_mode": "r",
   "file_extension": ".r",
   "mimetype": "text/x-r-source",
   "name": "R",
   "pygments_lexer": "r",
   "version": "4.1.3"
  }
 },
 "nbformat": 4,
 "nbformat_minor": 5
}
